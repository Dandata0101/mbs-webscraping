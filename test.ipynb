{
 "cells": [
  {
   "cell_type": "code",
   "execution_count": 1,
   "metadata": {},
   "outputs": [
    {
     "name": "stdout",
     "output_type": "stream",
     "text": [
      "Data saved to quotes.xlsx\n",
      "Data saved to quotes.xlsx\n"
     ]
    }
   ],
   "source": [
    "from scripts.webscrap import scrape_quotes_to_excel\n",
    "# Usage example\n",
    "url = 'https://www.kardex.com/fr/technologie/par-application/offre-complete'\n",
    "excel_file_path = 'quotes.xlsx'  # Specify your desired path and file name\n",
    "scrape_quotes_to_excel(url, excel_file_path)\n",
    "\n"
   ]
  }
 ],
 "metadata": {
  "kernelspec": {
   "display_name": "webenv",
   "language": "python",
   "name": "python3"
  },
  "language_info": {
   "codemirror_mode": {
    "name": "ipython",
    "version": 3
   },
   "file_extension": ".py",
   "mimetype": "text/x-python",
   "name": "python",
   "nbconvert_exporter": "python",
   "pygments_lexer": "ipython3",
   "version": "3.11.2"
  }
 },
 "nbformat": 4,
 "nbformat_minor": 2
}
